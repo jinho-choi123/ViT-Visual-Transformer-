{
 "cells": [
  {
   "cell_type": "code",
   "execution_count": 1,
   "id": "051042db-5d6b-44ca-bcf2-e958012ac908",
   "metadata": {
    "id": "051042db-5d6b-44ca-bcf2-e958012ac908"
   },
   "outputs": [],
   "source": [
    "# Configurations\n",
    "import torch\n",
    "from datetime import datetime\n",
    "import logging\n",
    "from pathlib import Path\n",
    "import os\n"
   ]
  },
  {
   "cell_type": "code",
   "execution_count": 2,
   "id": "zu0v2iVUkdOG",
   "metadata": {
    "colab": {
     "base_uri": "https://localhost:8080/"
    },
    "id": "zu0v2iVUkdOG",
    "outputId": "bb2b6b66-06d9-4356-bad3-0704c4d7e249"
   },
   "outputs": [
    {
     "ename": "ModuleNotFoundError",
     "evalue": "No module named 'google'",
     "output_type": "error",
     "traceback": [
      "\u001b[0;31m---------------------------------------------------------------------------\u001b[0m",
      "\u001b[0;31mModuleNotFoundError\u001b[0m                       Traceback (most recent call last)",
      "Cell \u001b[0;32mIn[2], line 2\u001b[0m\n\u001b[1;32m      1\u001b[0m \u001b[38;5;66;03m# connect to google colab\u001b[39;00m\n\u001b[0;32m----> 2\u001b[0m \u001b[38;5;28;01mfrom\u001b[39;00m \u001b[38;5;21;01mgoogle\u001b[39;00m\u001b[38;5;21;01m.\u001b[39;00m\u001b[38;5;21;01mcolab\u001b[39;00m \u001b[38;5;28;01mimport\u001b[39;00m drive\n\u001b[1;32m      3\u001b[0m drive\u001b[38;5;241m.\u001b[39mmount(\u001b[38;5;124m\"\u001b[39m\u001b[38;5;124m/content/gdrive\u001b[39m\u001b[38;5;124m\"\u001b[39m)\n",
      "\u001b[0;31mModuleNotFoundError\u001b[0m: No module named 'google'"
     ]
    }
   ],
   "source": [
    "# connect to google colab\n",
    "from google.colab import drive\n",
    "drive.mount(\"/content/gdrive\")"
   ]
  },
  {
   "cell_type": "code",
   "execution_count": 4,
   "id": "dbfb624a-34e4-40b9-8d3f-1095b541f69e",
   "metadata": {
    "colab": {
     "base_uri": "https://localhost:8080/"
    },
    "id": "dbfb624a-34e4-40b9-8d3f-1095b541f69e",
    "outputId": "325e22b8-dd52-4c4e-e986-b054c4c1bea2"
   },
   "outputs": [
    {
     "name": "stdout",
     "output_type": "stream",
     "text": [
      "MPS not available because the current PyTorch install was not built with MPS enabled.\n",
      "Using CPU as device\n"
     ]
    }
   ],
   "source": [
    "# MPS doesn't work for this project...\n",
    "\n",
    "# Configure device: CUDA, MPS, CPU\n",
    "if torch.cuda.is_available():\n",
    "    device = torch.device(\"cuda\")\n",
    "    print(\"Using CUDA as device\")\n",
    "else:\n",
    "    # Check that MPS is available\n",
    "    if not torch.backends.mps.is_available():\n",
    "        if not torch.backends.mps.is_built():\n",
    "            print(\"MPS not available because the current PyTorch install was not \"\n",
    "                  \"built with MPS enabled.\")\n",
    "        else:\n",
    "            print(\"MPS not available because the current MacOS version is not 12.3+ \"\n",
    "                  \"and/or you do not have an MPS-enabled device on this machine.\")\n",
    "        device = torch.device(\"cpu\")\n",
    "        print(\"Using CPU as device\")\n",
    "    else:\n",
    "        device = torch.device(\"mps\")\n",
    "        print(\"Using MPS as device\")\n",
    "\n",
    "\n",
    "torch.set_default_device(device)"
   ]
  },
  {
   "cell_type": "code",
   "execution_count": 5,
   "id": "17be138b-6caf-4b00-89c7-75da7946eab0",
   "metadata": {
    "colab": {
     "base_uri": "https://localhost:8080/"
    },
    "id": "17be138b-6caf-4b00-89c7-75da7946eab0",
    "outputId": "72b4621c-7997-401b-8ff9-c28376829707"
   },
   "outputs": [
    {
     "name": "stdout",
     "output_type": "stream",
     "text": [
      "project_dir: /content/gdrive/MyDrive/Colab Notebooks/Food-Classifier\n",
      "rawdata_dir: /content/gdrive/MyDrive/Colab Notebooks/Food-Classifier/rawdata\n",
      "data_dir: /content/gdrive/MyDrive/Colab Notebooks/Food-Classifier/data\n",
      "model_dir: /content/gdrive/MyDrive/Colab Notebooks/Food-Classifier/models\n",
      "log_dir: /content/gdrive/MyDrive/Colab Notebooks/Food-Classifier/logs\n"
     ]
    }
   ],
   "source": [
    "# Configure Directory\n",
    "project_dir = Path(\"/content/gdrive/MyDrive/Colab Notebooks/Food-Classifier\")\n",
    "rawdata_dir = project_dir / \"rawdata\"\n",
    "data_dir = project_dir / \"data\"\n",
    "model_dir = project_dir / \"models\"\n",
    "log_dir = project_dir / \"logs\"\n",
    "\n",
    "rawdata_dir.mkdir(parents=True, exist_ok=True)\n",
    "data_dir.mkdir(parents=True, exist_ok=True)\n",
    "model_dir.mkdir(parents=True, exist_ok=True)\n",
    "log_dir.mkdir(parents=True, exist_ok=True)\n",
    "\n",
    "print(f'project_dir: {project_dir}')\n",
    "print(f'rawdata_dir: {rawdata_dir}')\n",
    "print(f'data_dir: {data_dir}')\n",
    "print(f'model_dir: {model_dir}')\n",
    "print(f'log_dir: {log_dir}')"
   ]
  },
  {
   "cell_type": "code",
   "execution_count": 6,
   "id": "3ba89234-c8a2-4599-a095-3fcc57d97dff",
   "metadata": {
    "id": "3ba89234-c8a2-4599-a095-3fcc57d97dff"
   },
   "outputs": [],
   "source": [
    "# Configure Logger\n",
    "timestamp = datetime.now().strftime('%Y%m%d_%H%M%S')\n",
    "log_file = log_dir / f'log_{timestamp}.log'\n",
    "\n",
    "logger = logging.getLogger('transformer_log')\n",
    "logger.setLevel(logging.INFO)\n",
    "\n",
    "file_handler = logging.FileHandler(log_file)\n",
    "file_handler.setLevel(logging.INFO)\n",
    "\n",
    "formatter = logging.Formatter('%(asctime)s - %(name)s - %(levelname)s - %(message)s')\n",
    "file_handler.setFormatter(formatter)\n",
    "\n",
    "logger.addHandler(file_handler)"
   ]
  },
  {
   "cell_type": "code",
   "execution_count": 7,
   "id": "1c03aed3-0e3b-4994-a489-6d7939a31632",
   "metadata": {
    "id": "1c03aed3-0e3b-4994-a489-6d7939a31632"
   },
   "outputs": [],
   "source": [
    "# Define input image size \n",
    "# We are going to resize the original image\n",
    "EPOCHS = 100 \n",
    "BATCH_SIZE = 1\n",
    "IMG_SIZE = 256\n",
    "PATCH_SIZE = 4 \n",
    "IN_CHANNELS = 3 \n",
    "N_HEAD = 8\n",
    "D_MODEL = 400 \n",
    "FFN_HIDDEN = 512 \n",
    "MLP_HIDDEN = 1024 \n",
    "N_LAYERS = 6 \n",
    "CLASS_NUM = 101\n",
    "DROP_PROB = 0.1 \n",
    "INIT_LR = 0.01\n",
    "NUM_WORKERS=2\n",
    "\n",
    "torch.multiprocessing.set_start_method('spawn')"
   ]
  },
  {
   "cell_type": "code",
   "execution_count": 8,
   "id": "7ee5d10a-8351-43bb-8fb6-bbc642eec917",
   "metadata": {
    "id": "7ee5d10a-8351-43bb-8fb6-bbc642eec917"
   },
   "outputs": [],
   "source": [
    "from torchvision import datasets, transforms\n",
    "from torch.utils.data import Dataset, DataLoader\n",
    "from torch import Generator"
   ]
  },
  {
   "cell_type": "code",
   "execution_count": 9,
   "id": "d1e034b0-999b-45e1-8033-27eb7948cfe0",
   "metadata": {
    "id": "d1e034b0-999b-45e1-8033-27eb7948cfe0"
   },
   "outputs": [],
   "source": [
    "# Define Image transform function\n",
    "img_transform = transforms.Compose([\n",
    "    transforms.RandomResizedCrop((IMG_SIZE, IMG_SIZE)),\n",
    "    transforms.ToTensor(),\n",
    "])"
   ]
  },
  {
   "cell_type": "code",
   "execution_count": 10,
   "id": "7c8bf6f2-f5f9-454b-8a6e-dca3d11da4dc",
   "metadata": {
    "colab": {
     "base_uri": "https://localhost:8080/"
    },
    "id": "7c8bf6f2-f5f9-454b-8a6e-dca3d11da4dc",
    "outputId": "291db51d-e686-46a1-ddd2-492614948d6a"
   },
   "outputs": [
    {
     "name": "stdout",
     "output_type": "stream",
     "text": [
      "Downloading https://data.vision.ee.ethz.ch/cvl/food-101.tar.gz to /content/gdrive/MyDrive/Colab Notebooks/Food-Classifier/rawdata/food-101.tar.gz\n"
     ]
    },
    {
     "name": "stderr",
     "output_type": "stream",
     "text": [
      "100%|██████████| 5.00G/5.00G [04:32<00:00, 18.4MB/s]\n"
     ]
    },
    {
     "name": "stdout",
     "output_type": "stream",
     "text": [
      "Extracting /content/gdrive/MyDrive/Colab Notebooks/Food-Classifier/rawdata/food-101.tar.gz to /content/gdrive/MyDrive/Colab Notebooks/Food-Classifier/rawdata\n"
     ]
    }
   ],
   "source": [
    "# Prepare Food101 dataset\n",
    "train_data = datasets.Food101(root=rawdata_dir, split=\"train\", download=True, transform=img_transform)\n",
    "test_data = datasets.Food101(root=rawdata_dir, split=\"test\", download=True, transform=img_transform)"
   ]
  },
  {
   "cell_type": "code",
   "execution_count": 11,
   "id": "c95516dc-df01-4521-a406-a25e179452e9",
   "metadata": {
    "id": "c95516dc-df01-4521-a406-a25e179452e9"
   },
   "outputs": [],
   "source": [
    "train_dataloader = DataLoader(train_data, batch_size=BATCH_SIZE, shuffle=True, drop_last=True, pin_memory=True, generator=torch.Generator(device=device), num_workers=NUM_WORKERS)\n",
    "test_dataloader = DataLoader(test_data, batch_size=BATCH_SIZE, shuffle=False, drop_last=True, pin_memory=True, generator=torch.Generator(device=device), num_workers=NUM_WORKERS)"
   ]
  },
  {
   "cell_type": "code",
   "execution_count": null,
   "id": "244cf584-78db-4b52-83fb-74c0dc99c812",
   "metadata": {
    "id": "244cf584-78db-4b52-83fb-74c0dc99c812"
   },
   "outputs": [],
   "source": [
    "# Visual Transformer Implementation\n",
    "from torch import nn\n",
    "import torch\n",
    "import math"
   ]
  },
  {
   "cell_type": "code",
   "execution_count": null,
   "id": "dcf2b0ca-6084-4cda-8450-a74a1811203e",
   "metadata": {
    "id": "dcf2b0ca-6084-4cda-8450-a74a1811203e"
   },
   "outputs": [],
   "source": [
    "## Patch Embeddings\n",
    "class PatchEmbedding(nn.Module):\n",
    "    \"\"\"\n",
    "    split image into grids, and convert to a latent space vector\n",
    "    \"\"\"\n",
    "\n",
    "    def __init__(self, image_size, patch_size, in_channels, d_model, device):\n",
    "        super().__init__()\n",
    "        self.image_size = image_size\n",
    "        self.patch_size = patch_size\n",
    "        self.in_channels = in_channels\n",
    "        self.d_model = d_model\n",
    "        # image_size should be dividable by patch_size\n",
    "        # default: image_size=400, patch_size=40\n",
    "        self.num_patches = (self.image_size // self.patch_size) ** 2\n",
    "\n",
    "        # using convolution to create non-overlapping patches\n",
    "        self.emb = nn.Conv2d(self.in_channels, self.d_model, kernel_size=self.patch_size, stride=self.patch_size, device=device)\n",
    "\n",
    "    def forward(self, x):\n",
    "        # input shape: (batch_size, in_channels, image_size, image_size)\n",
    "        # output shape: (batch_size, num_patches, out_channels)\n",
    "\n",
    "        x = self.emb(x)\n",
    "        # intermediate x's shape: (batch_size, seq_len, sqrt(num_patches), sqrt(num_patches))\n",
    "\n",
    "        x = x.flatten(2).transpose(1, 2)\n",
    "\n",
    "        return x\n",
    "\n",
    "## Positional Embeddings\n",
    "class PositionalEmbedding(nn.Module):\n",
    "    def __init__(self, d_model, image_size, patch_size, device):\n",
    "        super().__init__()\n",
    "        num_patches = (image_size // patch_size) ** 2\n",
    "        self.max_len = num_patches + 1\n",
    "        self.d_model = d_model\n",
    "\n",
    "        self.encoding = torch.zeros(self.max_len, d_model, device=device)\n",
    "\n",
    "        # sinusoid positional embedding is static, which doesn't require training\n",
    "        # we turn off gradient engine to reduce memory in GPU\n",
    "        self.encoding.requires_grad = False\n",
    "\n",
    "        pos = torch.arange(0, self.max_len, device=device)\n",
    "        pos = pos.float().unsqueeze(dim=1)\n",
    "        # shape of pos: (max_len, 1)\n",
    "\n",
    "        _2i = torch.arange(0, self.d_model, step=2, device=device).float()\n",
    "        # shape of _2i: (num_patches // 2, )\n",
    "\n",
    "        self.encoding[:, 0::2] = torch.sin(pos / (10000 ** (_2i / self.d_model)))\n",
    "        self.encoding[:, 1::2] = torch.cos(pos / (10000 ** (_2i / self.d_model)))\n",
    "\n",
    "    def forward(self, x):\n",
    "        _, seq_len, _ = x.shape\n",
    "        return self.encoding[:seq_len, :]\n",
    "\n",
    "\n",
    "class TransformerEmbedding(nn.Module):\n",
    "    def __init__(self, image_size, patch_size, in_channels, d_model, drop_prob, device):\n",
    "        super().__init__()\n",
    "        self.patch_emb = PatchEmbedding(image_size, patch_size, in_channels, d_model, device)\n",
    "        self.pos_emb = PositionalEmbedding(d_model, image_size, patch_size, device)\n",
    "        self.dropout = nn.Dropout(p=drop_prob)\n",
    "\n",
    "        # Similar to BERT model, we should add CLS token to the starting of the sequence\n",
    "        self.cls_token = nn.Parameter(torch.randn(1, 1, d_model))\n",
    "\n",
    "    def forward(self, x):\n",
    "        batch_size, _, _, _ = x.shape\n",
    "\n",
    "        x = self.patch_emb(x)\n",
    "\n",
    "\n",
    "        cls_token = self.cls_token.expand(batch_size, -1, -1)\n",
    "        # cls_token shape: (batch_size, 1, d_model)\n",
    "\n",
    "        x = torch.cat((cls_token, x), dim=1)\n",
    "        pos_emb = self.pos_emb(x)\n",
    "\n",
    "        return self.dropout(x + pos_emb)"
   ]
  },
  {
   "cell_type": "code",
   "execution_count": null,
   "id": "9e7dfb62-3160-4f85-b9d4-508ea3f06d69",
   "metadata": {
    "id": "9e7dfb62-3160-4f85-b9d4-508ea3f06d69"
   },
   "outputs": [],
   "source": [
    "## Attention Block\n",
    "class SelfAttentionBlock(nn.Module):\n",
    "    \"\"\"\n",
    "    A attention block with scale dot product attention for\n",
    "    Query, Key, Value\n",
    "    \"\"\"\n",
    "    def __init__(self):\n",
    "        super().__init__()\n",
    "        self.softmax = nn.Softmax(dim=-1)\n",
    "\n",
    "    def forward(self, q, k, v, eps=1e-12):\n",
    "        # Since this is not a NLP, we don't need any padding-mask or look-ahead mask\n",
    "        # also, q, k, v have the same shape\n",
    "        batch_size, n_head, seq_len, d_tensor = k.shape\n",
    "\n",
    "        k_T = k.transpose(2, 3)\n",
    "        att_weight = (q @ k_T) / math.sqrt(d_tensor)\n",
    "\n",
    "        # att_weight shape: batch_size, n_head, seq_len, d_tensor\n",
    "        att_score = self.softmax(att_weight)\n",
    "\n",
    "        return att_score @ v, att_score\n",
    "\n",
    "## Multihead Attention Block\n",
    "class MultiheadAttentionBlock(nn.Module):\n",
    "    def __init__(self, n_head, d_model):\n",
    "        super().__init__()\n",
    "        self.n_head = n_head\n",
    "        self.d_model = d_model\n",
    "\n",
    "        self.Wq = nn.Linear(d_model, d_model)\n",
    "        self.Wk = nn.Linear(d_model, d_model)\n",
    "        self.Wv = nn.Linear(d_model, d_model)\n",
    "\n",
    "        self.attention = SelfAttentionBlock()\n",
    "\n",
    "        self.Wconcat = nn.Linear(d_model, d_model)\n",
    "\n",
    "    def split(self, tensor):\n",
    "        \"\"\"\n",
    "        split tensor into n_heads\n",
    "        (batch_size, seq_len, d_model) -> (batch_size, n_head, seq_len, d_tensor)\n",
    "        \"\"\"\n",
    "        batch_size, seq_len, d_model = tensor.shape\n",
    "\n",
    "        d_tensor = d_model // self.n_head\n",
    "\n",
    "        tensor = tensor.reshape(batch_size, seq_len, self.n_head, d_tensor).transpose(1, 2)\n",
    "\n",
    "        return tensor\n",
    "\n",
    "    def concat(self, tensor):\n",
    "        \"\"\"\n",
    "        reverse of split\n",
    "        (batch_size, n_head, seq_len, d_tensor) -> (batch_size, seq_len, d_model)\n",
    "        \"\"\"\n",
    "        batch_size, n_head, seq_len, d_tensor = tensor.shape\n",
    "\n",
    "        tensor = tensor.transpose(1, 2).reshape(batch_size, seq_len, n_head * d_tensor)\n",
    "\n",
    "        return tensor\n",
    "\n",
    "    def forward(self, x):\n",
    "\n",
    "        # apply Wq, Wk, Wv to get q, k, v\n",
    "        query = self.split(self.Wq(x))\n",
    "        key = self.split(self.Wk(x))\n",
    "        value = self.split(self.Wv(x))\n",
    "\n",
    "        # apply attention\n",
    "        out, attn_weight = self.attention(query, key, value)\n",
    "\n",
    "        out = self.concat(out)\n",
    "\n",
    "        out = self.Wconcat(out)\n",
    "\n",
    "        return out, attn_weight\n"
   ]
  },
  {
   "cell_type": "code",
   "execution_count": null,
   "id": "9991b777-8bfe-4c0c-8d52-fbcc5bc7e663",
   "metadata": {
    "id": "9991b777-8bfe-4c0c-8d52-fbcc5bc7e663"
   },
   "outputs": [],
   "source": [
    "## Define FeedForward Network\n",
    "class FeedForwardBlock(nn.Module):\n",
    "    def __init__(self, d_model, ffn_hidden, drop_prob=0.1):\n",
    "        super().__init__()\n",
    "        self.linear1 = nn.Linear(d_model, ffn_hidden)\n",
    "        self.linear2 = nn.Linear(ffn_hidden, d_model)\n",
    "        self.relu = nn.ReLU()\n",
    "        self.dropout = nn.Dropout(p=drop_prob)\n",
    "\n",
    "    def forward(self, x):\n",
    "        x = self.linear1(x)\n",
    "        x = self.relu(x)\n",
    "        x = self.dropout(x)\n",
    "        x = self.linear2(x)\n",
    "        return x"
   ]
  },
  {
   "cell_type": "code",
   "execution_count": null,
   "id": "e4293e42-fc6f-4623-b7aa-38ff43743db3",
   "metadata": {
    "id": "e4293e42-fc6f-4623-b7aa-38ff43743db3"
   },
   "outputs": [],
   "source": [
    "# Define Transformer EncoderBlock and Encoder\n",
    "class EncoderBlock(nn.Module):\n",
    "    def __init__(self, n_head, d_model, ffn_hidden, drop_prob=0.1):\n",
    "        super().__init__()\n",
    "        self.norm = nn.LayerNorm(d_model)\n",
    "        self.dropout1 = nn.Dropout(p=drop_prob)\n",
    "\n",
    "        self.multihead_attn = MultiheadAttentionBlock(n_head, d_model)\n",
    "        self.ffn = FeedForwardBlock(d_model, ffn_hidden, drop_prob)\n",
    "        self.dropout2 = nn.Dropout(p=drop_prob)\n",
    "\n",
    "    def forward(self, x):\n",
    "        residual = x\n",
    "\n",
    "        x = self.norm(x)\n",
    "        x, attn_weight = self.multihead_attn(x)\n",
    "\n",
    "        x = self.dropout1(x + residual)\n",
    "\n",
    "        residual = x\n",
    "\n",
    "        x = self.norm(x)\n",
    "        x = self.ffn(x)\n",
    "\n",
    "        x = self.dropout2(x + residual)\n",
    "\n",
    "        return x, attn_weight\n",
    "\n",
    "class Encoder(nn.Module):\n",
    "    def __init__(self, image_size, patch_size, in_channels, n_head, d_model, ffn_hidden, n_layers, device,  drop_prob=0.1):\n",
    "        super().__init__()\n",
    "        self.emb = TransformerEmbedding(image_size, patch_size, in_channels, d_model, drop_prob, device)\n",
    "        self.layers = nn.ModuleList([EncoderBlock(n_head, d_model, ffn_hidden, drop_prob)])\n",
    "        self.norm = nn.LayerNorm(d_model)\n",
    "\n",
    "    def forward(self, x):\n",
    "        x = self.emb(x)\n",
    "\n",
    "        attn_weights = []\n",
    "\n",
    "        for layer in self.layers:\n",
    "            x, attn_weight = layer(x)\n",
    "            attn_weights.append(attn_weight)\n",
    "\n",
    "        x = self.norm(x)\n",
    "        return x, attn_weights"
   ]
  },
  {
   "cell_type": "code",
   "execution_count": null,
   "id": "0a0c2f55-38bc-4e65-a3ec-9ce992f86b4e",
   "metadata": {
    "id": "0a0c2f55-38bc-4e65-a3ec-9ce992f86b4e"
   },
   "outputs": [],
   "source": [
    "## Define MLP head for final classification\n",
    "class MLPHead(nn.Module):\n",
    "    def __init__(self, d_model, class_num, mlp_hidden, drop_prob):\n",
    "        super().__init__()\n",
    "        self.linear1 = nn.Linear(d_model, mlp_hidden)\n",
    "        self.gelu = nn.GELU()\n",
    "        self.linear2 = nn.Linear(mlp_hidden, class_num)\n",
    "        self.dropout = nn.Dropout(p=drop_prob)\n",
    "\n",
    "    def forward(self, x):\n",
    "        x = self.linear1(x)\n",
    "        x = self.gelu(x)\n",
    "\n",
    "        x = self.linear2(x)\n",
    "        x = self.dropout(x)\n",
    "        return x"
   ]
  },
  {
   "cell_type": "code",
   "execution_count": null,
   "id": "152e3a41-59e1-4bb6-a3d3-07bafc35be39",
   "metadata": {
    "id": "152e3a41-59e1-4bb6-a3d3-07bafc35be39"
   },
   "outputs": [],
   "source": [
    "class ViT(nn.Module):\n",
    "    \"\"\"\n",
    "    ViT Model\n",
    "    \"\"\"\n",
    "    def __init__(self, image_size, patch_size, in_channels, n_head, d_model, ffn_hidden, mlp_hidden, n_layers, class_num, device, drop_prob=0.1):\n",
    "        super().__init__()\n",
    "        seq_len = (image_size // patch_size) ** 2 + 1\n",
    "        self.encoder = Encoder(image_size, patch_size, in_channels, n_head, d_model, ffn_hidden, n_layers, device, drop_prob)\n",
    "        self.mlp_head = MLPHead(d_model, class_num, mlp_hidden, drop_prob)\n",
    "\n",
    "    def forward(self, img):\n",
    "        x, attn_weights = self.encoder(img)\n",
    "\n",
    "        logits = self.mlp_head(x[:, 0, :])\n",
    "\n",
    "        return (logits, attn_weights)\n"
   ]
  },
  {
   "cell_type": "code",
   "execution_count": null,
   "id": "5710d848-ca35-4c38-b76d-3d984b7a2493",
   "metadata": {
    "id": "5710d848-ca35-4c38-b76d-3d984b7a2493"
   },
   "outputs": [],
   "source": [
    "# Train the Vit using Food101 dataset"
   ]
  },
  {
   "cell_type": "code",
   "execution_count": null,
   "id": "97823546-22b7-45d8-845c-1a22a4c7a2e3",
   "metadata": {
    "id": "97823546-22b7-45d8-845c-1a22a4c7a2e3"
   },
   "outputs": [],
   "source": [
    "from torch.optim import Adam\n",
    "from datetime import datetime\n",
    "import torch\n",
    "from tqdm import tqdm"
   ]
  },
  {
   "cell_type": "code",
   "execution_count": null,
   "id": "20415737-0e48-457c-9988-b6d42d9727ed",
   "metadata": {
    "id": "20415737-0e48-457c-9988-b6d42d9727ed"
   },
   "outputs": [],
   "source": [
    "model = ViT(\n",
    "    image_size=IMG_SIZE,\n",
    "    patch_size=PATCH_SIZE,\n",
    "    in_channels=IN_CHANNELS,\n",
    "    n_head=N_HEAD,\n",
    "    d_model=D_MODEL,\n",
    "    ffn_hidden=FFN_HIDDEN,\n",
    "    mlp_hidden=MLP_HIDDEN,\n",
    "    n_layers=N_LAYERS,\n",
    "    class_num=CLASS_NUM,\n",
    "    device=device,\n",
    "    drop_prob=DROP_PROB,\n",
    ")\n",
    "\n",
    "def count_parameters(model):\n",
    "    return sum(p.numel() for p in model.parameters() if p.requires_grad)\n",
    "\n",
    "logger.info(f'model parameter #: {count_parameters(model)}')"
   ]
  },
  {
   "cell_type": "code",
   "execution_count": null,
   "id": "99b490b3-e88f-4599-b33b-7c1e530a517f",
   "metadata": {
    "id": "99b490b3-e88f-4599-b33b-7c1e530a517f"
   },
   "outputs": [],
   "source": [
    "# Setup optimizer\n",
    "optimizer = Adam(params = model.parameters(), lr=INIT_LR)\n",
    "\n",
    "# Setup loss function for training\n",
    "loss_func = nn.CrossEntropyLoss()"
   ]
  },
  {
   "cell_type": "code",
   "execution_count": null,
   "id": "eac9adba-1e11-4070-a4b8-6192b8bfdcdf",
   "metadata": {
    "id": "eac9adba-1e11-4070-a4b8-6192b8bfdcdf"
   },
   "outputs": [],
   "source": [
    "train_loss_per_epoch = []\n",
    "test_loss_per_epoch = []"
   ]
  },
  {
   "cell_type": "code",
   "execution_count": null,
   "id": "ab542c29-a836-47e1-812d-ea27008b282a",
   "metadata": {
    "id": "ab542c29-a836-47e1-812d-ea27008b282a"
   },
   "outputs": [],
   "source": [
    "def train_epoch(epoch_num): \n",
    "    # Prepare recording CUDA memory snapshot\n",
    "    torch.cuda.memory._record_memory_history(\n",
    "        max_entries=MAX_NUM_OF_MEM_EVENTS_PER_SNAPSHOT\n",
    "    )\n",
    "    model.train()\n",
    "    train_epoch_loss = 0 \n",
    "\n",
    "    for step, (img, food) in tqdm(enumerate(train_dataloader)):\n",
    "        img = img.to(device)\n",
    "        food = food.to(device)\n",
    "        out, _ = model(img)\n",
    "\n",
    "        loss = loss_func(out, food)\n",
    "\n",
    "        \n",
    "        loss.backward()\n",
    "\n",
    "        optimizer.step()\n",
    "        train_epoch_loss += loss.item()\n",
    "\n",
    "        if step % 100 == 0: \n",
    "            logger.info(f'EPOCH #{epoch_num} STEP #{step} | loss: {loss.item()}, avg_loss: {train_epoch_loss / (step + 1)}')\n",
    "\n",
    "        if step == 500:\n",
    "            try:\n",
    "                memory_dump_path = log_dir / f'memory_dump_{timestamp}.log'\n",
    "                torch.cuda.memory._dump_snapshot()\n",
    "                # stop recording memory history\n",
    "                torch.cuda.memory._record_memory_history(enabled=None)\n",
    "            except Exception as e:\n",
    "                logger.error(f'Failed to capture memory snapshot {e}')\n",
    "            \n",
    "        optimizer.zero_grad()\n",
    "\n",
    "    train_step_loss = train_epoch_loss / (step + 1) \n",
    "    return train_epoch_loss "
   ]
  },
  {
   "cell_type": "code",
   "execution_count": null,
   "id": "04f6cd28-46d1-4607-b2c0-8f6f8fd09ee4",
   "metadata": {
    "id": "04f6cd28-46d1-4607-b2c0-8f6f8fd09ee4"
   },
   "outputs": [],
   "source": [
    "def evaluate():\n",
    "    model.eval()\n",
    "    test_epoch_loss = 0\n",
    "\n",
    "    with torch.no_grad():\n",
    "        for step, (img, food) in tqdm(enumerate(test_dataloader)):\n",
    "            img = img.to(device)\n",
    "            food = food.to(device)\n",
    "            out, _ = model(img)\n",
    "\n",
    "            loss = loss_func(out, food)\n",
    "\n",
    "            test_epoch_loss += loss.item()\n",
    "\n",
    "    test_step_loss = test_epoch_loss / (step + 1)\n",
    "\n",
    "    return test_epoch_loss"
   ]
  },
  {
   "cell_type": "code",
   "execution_count": null,
   "id": "3910b3ff-4e9e-459c-b55d-b4011614fb8d",
   "metadata": {
    "id": "3910b3ff-4e9e-459c-b55d-b4011614fb8d",
    "scrolled": true
   },
   "outputs": [],
   "source": [
    "# Actual training is done here\n",
    "\n",
    "for epoch in range(EPOCHS):\n",
    "    train_epoch_loss, train_step_loss = train_epoch(epoch)\n",
    "    test_epoch_loss, test_step_loss = evaluate()\n",
    "\n",
    "    train_loss_per_epoch.append(train_epoch_loss)\n",
    "    test_loss_per_epoch.append(test_epoch_loss)\n",
    "\n",
    "    logger.info(f'Epoch #{epoch} End | Train Loss: {train_epoch_loss} | Test Loss: {test_epoch_loss}')\n",
    "\n",
    "    model_path = model_dir / f'model_{timestamp}_{epoch}'\n",
    "    torch.save(model.state_dict(), model_path)\n",
    "\n",
    "logger.info(f'Training Completely Ended!!')\n"
   ]
  },
  {
   "cell_type": "code",
   "execution_count": null,
   "id": "8e551b7f-8f6c-49dc-a3f2-8b6e1f25d78b",
   "metadata": {
    "id": "8e551b7f-8f6c-49dc-a3f2-8b6e1f25d78b"
   },
   "outputs": [],
   "source": []
  }
 ],
 "metadata": {
  "colab": {
   "provenance": []
  },
  "kernelspec": {
   "display_name": "Python 3 (ipykernel)",
   "language": "python",
   "name": "python3"
  },
  "language_info": {
   "codemirror_mode": {
    "name": "ipython",
    "version": 3
   },
   "file_extension": ".py",
   "mimetype": "text/x-python",
   "name": "python",
   "nbconvert_exporter": "python",
   "pygments_lexer": "ipython3",
   "version": "3.11.10"
  }
 },
 "nbformat": 4,
 "nbformat_minor": 5
}
