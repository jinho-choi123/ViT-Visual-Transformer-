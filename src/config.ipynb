{
 "cells": [
  {
   "cell_type": "code",
   "execution_count": 8,
   "id": "051042db-5d6b-44ca-bcf2-e958012ac908",
   "metadata": {},
   "outputs": [],
   "source": [
    "# Configurations\n",
    "import torch \n",
    "from datetime import datetime\n",
    "import logging\n",
    "from pathlib import Path \n",
    "import os \n"
   ]
  },
  {
   "cell_type": "code",
   "execution_count": 9,
   "id": "dbfb624a-34e4-40b9-8d3f-1095b541f69e",
   "metadata": {},
   "outputs": [
    {
     "name": "stdout",
     "output_type": "stream",
     "text": [
      "Using MPS as device\n"
     ]
    }
   ],
   "source": [
    "# Configure device: CUDA, MPS, CPU\n",
    "if torch.cuda.is_available():\n",
    "    device = torch.device(\"cuda\")\n",
    "    print(\"Using CUDA as device\")\n",
    "else:\n",
    "    # Check that MPS is available\n",
    "    if not torch.backends.mps.is_available():\n",
    "        if not torch.backends.mps.is_built():\n",
    "            print(\"MPS not available because the current PyTorch install was not \"\n",
    "                  \"built with MPS enabled.\")\n",
    "        else:\n",
    "            print(\"MPS not available because the current MacOS version is not 12.3+ \"\n",
    "                  \"and/or you do not have an MPS-enabled device on this machine.\")\n",
    "        device = torch.device(\"cpu\")\n",
    "        print(\"Using CPU as device\")\n",
    "    else:\n",
    "        device = torch.device(\"mps\")\n",
    "        print(\"Using MPS as device\")\n",
    "\n",
    "    \n",
    "# torch.set_default_device(device)"
   ]
  },
  {
   "cell_type": "code",
   "execution_count": 10,
   "id": "17be138b-6caf-4b00-89c7-75da7946eab0",
   "metadata": {
    "scrolled": true
   },
   "outputs": [
    {
     "name": "stdout",
     "output_type": "stream",
     "text": [
      "project_dir: /Users/ball/Documents/workspace\n",
      "rawdata_dir: /Users/ball/Documents/workspace/rawdata\n",
      "data_dir: /Users/ball/Documents/workspace/data\n",
      "model_dir: /Users/ball/Documents/workspace/models\n",
      "log_dir: /Users/ball/Documents/workspace/logs\n"
     ]
    }
   ],
   "source": [
    "# Configure Directory\n",
    "project_dir = Path(os.getcwd()).parent\n",
    "rawdata_dir = project_dir / \"rawdata\"\n",
    "data_dir = project_dir / \"data\"\n",
    "model_dir = project_dir / \"models\"\n",
    "log_dir = project_dir / \"logs\"\n",
    "\n",
    "rawdata_dir.mkdir(parents=True, exist_ok=True)\n",
    "data_dir.mkdir(parents=True, exist_ok=True)\n",
    "model_dir.mkdir(parents=True, exist_ok=True)\n",
    "log_dir.mkdir(parents=True, exist_ok=True)\n",
    "\n",
    "print(f'project_dir: {project_dir}')\n",
    "print(f'rawdata_dir: {rawdata_dir}')\n",
    "print(f'data_dir: {data_dir}')\n",
    "print(f'model_dir: {model_dir}')\n",
    "print(f'log_dir: {log_dir}')"
   ]
  },
  {
   "cell_type": "code",
   "execution_count": 25,
   "id": "3ba89234-c8a2-4599-a095-3fcc57d97dff",
   "metadata": {},
   "outputs": [],
   "source": [
    "# Configure Logger \n",
    "\n",
    "timestamp = datetime.now().strftime('%Y%m%d_%H%M%S')\n",
    "log_file = log_dir / f'log_{timestamp}.log'\n",
    "\n",
    "logger = logging.getLogger('transformer_log')\n",
    "logger.setLevel(logging.INFO)\n",
    "\n",
    "file_handler = logging.FileHandler(log_file)\n",
    "file_handler.setLevel(logging.INFO)\n",
    "\n",
    "formatter = logging.Formatter('%(asctime)s - %(name)s - %(levelname)s - %(message)s')\n",
    "file_handler.setFormatter(formatter)\n",
    "\n",
    "logger.addHandler(file_handler)"
   ]
  },
  {
   "cell_type": "code",
   "execution_count": null,
   "id": "1c03aed3-0e3b-4994-a489-6d7939a31632",
   "metadata": {},
   "outputs": [],
   "source": [
    "# Define input image size \n",
    "# We are going to resize the original image\n",
    "EPOCHS = 100\n",
    "BATCH_SIZE = 37\n",
    "IMG_SIZE = 200\n",
    "PATCH_SIZE = 5 \n",
    "IN_CHANNELS = 3 \n",
    "N_HEAD = 8\n",
    "D_MODEL = 200 \n",
    "FFN_HIDDEN = 128 \n",
    "MLP_HIDDEN = 400 \n",
    "N_LAYERS = 3\n",
    "CLASS_NUM = 101\n",
    "DROP_PROB = 0.1 \n",
    "INIT_LR = 0.01\n",
    "NUM_WORKERS=2\n",
    "WARMUP_STEPS=2500\n",
    "\n",
    "torch.multiprocessing.set_start_method('spawn')"
   ]
  },
  {
   "cell_type": "code",
   "execution_count": null,
   "id": "06873df2-6699-4927-b02e-4788d8c6a33a",
   "metadata": {},
   "outputs": [],
   "source": [
    "# Define learning rate scheduler.\n",
    "# If you want to modify the logic of Scheduler, please modify this class\n",
    "\n",
    "class LRScheduler:\n",
    "    def __init__(self, optimizer, d_model, warmup_steps, LR_scale=1):\n",
    "        self.optimizer = optimizer\n",
    "        self.step_count = 0\n",
    "        self.d_model = d_model\n",
    "        self.warmup_steps = warmup_steps\n",
    "        self.LR_scale = LR_scale\n",
    "        self._d_model_factor = self.LR_scale * (self.d_model ** -0.5)\n",
    "    def step(self):\n",
    "        self.step_count += 1\n",
    "        lr = self.calculate_learning_rate()\n",
    "        self.optimizer.param_groups[0]['lr'] = lr\n",
    "    def calculate_learning_rate(self):\n",
    "        minimum_factor = min(self.step_count ** -0.5, self.step_count * self.warmup_steps ** -1.5)\n",
    "        return self._d_model_factor * minimum_factor"
   ]
  }
 ],
 "metadata": {
  "kernelspec": {
   "display_name": "Python 3 (ipykernel)",
   "language": "python",
   "name": "python3"
  },
  "language_info": {
   "codemirror_mode": {
    "name": "ipython",
    "version": 3
   },
   "file_extension": ".py",
   "mimetype": "text/x-python",
   "name": "python",
   "nbconvert_exporter": "python",
   "pygments_lexer": "ipython3",
   "version": "3.11.10"
  }
 },
 "nbformat": 4,
 "nbformat_minor": 5
}
