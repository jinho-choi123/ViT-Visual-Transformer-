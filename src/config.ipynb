{
 "cells": [
  {
   "cell_type": "code",
   "execution_count": 1,
   "id": "051042db-5d6b-44ca-bcf2-e958012ac908",
   "metadata": {},
   "outputs": [],
   "source": [
    "# Configurations\n",
    "import torch \n",
    "from datetime import datetime\n",
    "import logging\n",
    "from pathlib import Path \n",
    "import os \n"
   ]
  },
  {
   "cell_type": "code",
   "execution_count": 3,
   "id": "dbfb624a-34e4-40b9-8d3f-1095b541f69e",
   "metadata": {},
   "outputs": [
    {
     "name": "stdout",
     "output_type": "stream",
     "text": [
      "Using MPS as device\n",
      "mps\n"
     ]
    }
   ],
   "source": [
    "# Configure device: CUDA, MPS, CPU\n",
    "if torch.cuda.is_available():\n",
    "    device = torch.device(\"cuda\")\n",
    "    print(\"Using CUDA as device\")\n",
    "else:\n",
    "    # Check that MPS is available\n",
    "    if not torch.backends.mps.is_available():\n",
    "        if not torch.backends.mps.is_built():\n",
    "            print(\"MPS not available because the current PyTorch install was not \"\n",
    "                  \"built with MPS enabled.\")\n",
    "        else:\n",
    "            print(\"MPS not available because the current MacOS version is not 12.3+ \"\n",
    "                  \"and/or you do not have an MPS-enabled device on this machine.\")\n",
    "        device = torch.device(\"cpu\")\n",
    "        print(\"Using CPU as device\")\n",
    "    else:\n",
    "        device = torch.device(\"mps\")\n",
    "        print(\"Using MPS as device\")\n",
    "\n",
    "# for mps \n",
    "device = torch.device(\"cpu\")\n",
    "\n",
    "    \n",
    "torch.set_default_device(device)\n",
    "print(f'{device}')"
   ]
  },
  {
   "cell_type": "code",
   "execution_count": 10,
   "id": "17be138b-6caf-4b00-89c7-75da7946eab0",
   "metadata": {
    "scrolled": true
   },
   "outputs": [
    {
     "name": "stdout",
     "output_type": "stream",
     "text": [
      "project_dir: /Users/ball/Documents/workspace\n",
      "rawdata_dir: /Users/ball/Documents/workspace/rawdata\n",
      "data_dir: /Users/ball/Documents/workspace/data\n",
      "model_dir: /Users/ball/Documents/workspace/models\n",
      "log_dir: /Users/ball/Documents/workspace/logs\n"
     ]
    }
   ],
   "source": [
    "# Configure Directory\n",
    "project_dir = Path(os.getcwd()).parent\n",
    "rawdata_dir = project_dir / \"rawdata\"\n",
    "data_dir = project_dir / \"data\"\n",
    "model_dir = project_dir / \"models\"\n",
    "log_dir = project_dir / \"logs\"\n",
    "\n",
    "rawdata_dir.mkdir(parents=True, exist_ok=True)\n",
    "data_dir.mkdir(parents=True, exist_ok=True)\n",
    "model_dir.mkdir(parents=True, exist_ok=True)\n",
    "log_dir.mkdir(parents=True, exist_ok=True)\n",
    "\n",
    "print(f'project_dir: {project_dir}')\n",
    "print(f'rawdata_dir: {rawdata_dir}')\n",
    "print(f'data_dir: {data_dir}')\n",
    "print(f'model_dir: {model_dir}')\n",
    "print(f'log_dir: {log_dir}')"
   ]
  },
  {
   "cell_type": "code",
   "execution_count": 25,
   "id": "3ba89234-c8a2-4599-a095-3fcc57d97dff",
   "metadata": {},
   "outputs": [],
   "source": [
    "# Configure Logger \n",
    "\n",
    "timestamp = datetime.now().strftime('%Y%m%d_%H%M%S')\n",
    "log_file = log_dir / f'log_{timestamp}.log'\n",
    "\n",
    "logger = logging.getLogger('transformer_log')\n",
    "logger.setLevel(logging.INFO)\n",
    "\n",
    "file_handler = logging.FileHandler(log_file)\n",
    "file_handler.setLevel(logging.INFO)\n",
    "\n",
    "formatter = logging.Formatter('%(asctime)s - %(name)s - %(levelname)s - %(message)s')\n",
    "file_handler.setFormatter(formatter)\n",
    "\n",
    "logger.addHandler(file_handler)\n",
    "logger.addHandler(logging.StreamHandler())\n",
    "logger.setLevel(logging.DEBUG)\n"
   ]
  },
  {
   "cell_type": "code",
   "execution_count": null,
   "id": "1c03aed3-0e3b-4994-a489-6d7939a31632",
   "metadata": {},
   "outputs": [],
   "source": [
    "# Define input image size \n",
    "# We are going to resize the original image\n",
    "\n",
    "DATASET=\"mnist\" \n",
    "# \"mnist\" or \"cifar10\". default is \"mnist\"\n",
    "# if using \"mnist\", please change IN_CHANNELS=1\n",
    "# if using \"cifar10\", please change IN_CHANNELS=3\n",
    "\n",
    "EPOCHS = 100\n",
    "BATCH_SIZE = 64\n",
    "IMG_SIZE = 28\n",
    "PATCH_SIZE = 4\n",
    "IN_CHANNELS = 1\n",
    "N_HEAD = 5\n",
    "D_MODEL = 200\n",
    "FFN_HIDDEN = 512 \n",
    "MLP_HIDDEN = 512\n",
    "N_LAYERS = 5\n",
    "CLASS_NUM = 10\n",
    "DROP_PROB = 0.1 \n",
    "INIT_LR = 5e-5\n",
    "NUM_WORKERS=2\n",
    "WEIGHT_DECAY=1e-4\n",
    "GRADIENT_CLIP = 1.0\n",
    "\n",
    "\n",
    "LOAD_MODEL=False\n",
    "LOADING_MODEL_NAME=\"model_20241202_234017_1\"\n",
    "\n",
    "logger.info(f'CONFIGURATION START')\n",
    "logger.info(f'EPOCHS: {EPOCHS}')\n",
    "logger.info(f'BATCH_SIZE: {BATCH_SIZE}')\n",
    "logger.info(f'IMG_SIZE: {IMG_SIZE}')\n",
    "logger.info(f'PATCH_SIZE: {PATCH_SIZE}')\n",
    "logger.info(f'IN_CHANNELS: {IN_CHANNELS}')\n",
    "logger.info(f'N_HEAD: {N_HEAD}')\n",
    "logger.info(f'D_MODEL: {D_MODEL}')\n",
    "logger.info(f'FFN_HIDDEN: {FFN_HIDDEN}')\n",
    "logger.info(f'MLP_HIDDEN: {MLP_HIDDEN}')\n",
    "logger.info(f'N_LAYERS: {N_LAYERS}') \n",
    "logger.info(f'CLASS_NUM: {CLASS_NUM}') \n",
    "logger.info(f'DROP_PROB: {DROP_PROB}') \n",
    "logger.info(f'INIT_LR: {INIT_LR}') \n",
    "logger.info(f'NUM_WORKERS: {NUM_WORKERS}')\n",
    "logger.info(f'WEIGHT_DECAY: {WEIGHT_DECAY}')\n",
    "logger.info(f'CONFIGURATION END')\n",
    "\n",
    "# torch.multiprocessing.set_start_method('spawn')"
   ]
  }
 ],
 "metadata": {
  "kernelspec": {
   "display_name": "Python 3 (ipykernel)",
   "language": "python",
   "name": "python3"
  },
  "language_info": {
   "codemirror_mode": {
    "name": "ipython",
    "version": 3
   },
   "file_extension": ".py",
   "mimetype": "text/x-python",
   "name": "python",
   "nbconvert_exporter": "python",
   "pygments_lexer": "ipython3",
   "version": "3.11.10"
  }
 },
 "nbformat": 4,
 "nbformat_minor": 5
}
