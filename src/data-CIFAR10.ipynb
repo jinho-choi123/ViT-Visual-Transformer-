{
 "cells": [
  {
   "cell_type": "code",
   "execution_count": null,
   "id": "af2cde21-0ce3-4e02-830f-29085d749ad6",
   "metadata": {},
   "outputs": [],
   "source": [
    "%%capture \n",
    "%run config.ipynb"
   ]
  },
  {
   "cell_type": "code",
   "execution_count": null,
   "id": "244561fe-2948-4171-8b35-f013abcbb52a",
   "metadata": {},
   "outputs": [],
   "source": [
    "from torchvision import datasets, transforms\n",
    "from torch.utils.data import Dataset, DataLoader\n",
    "from torch import Generator"
   ]
  },
  {
   "cell_type": "code",
   "execution_count": null,
   "id": "ec75fa75-2584-45df-a292-7deccf1291fb",
   "metadata": {},
   "outputs": [],
   "source": [
    "# Define Image transform function \n",
    "train_img_transform = transforms.Compose([\n",
    "    transforms.RandomCrop(IMG_SIZE, padding=4),\n",
    "    transforms.RandomRotation(60),\n",
    "    transforms.RandomHorizontalFlip(p=0.5),\n",
    "    transforms.Resize((IMG_SIZE, IMG_SIZE)),\n",
    "    transforms.ToTensor(),\n",
    "    transforms.Normalize(mean=0.5, std=0.5)\n",
    "])\n",
    "\n",
    "test_img_transform = transforms.Compose([\n",
    "    transforms.Resize((IMG_SIZE, IMG_SIZE)),\n",
    "    transforms.ToTensor(),\n",
    "    transforms.Normalize(mean=0.5, std=0.5)\n",
    "])"
   ]
  },
  {
   "cell_type": "code",
   "execution_count": null,
   "id": "8c5fb53a-2426-4a97-9d4f-1a3d23a21e58",
   "metadata": {},
   "outputs": [],
   "source": [
    "# Prepare CIFAR10 dataset \n",
    "# 3 * 32 * 32 pixel image\n",
    "train_data = datasets.CIFAR10(root=rawdata_dir, train=True, download=True, transform=train_img_transform)\n",
    "test_data = datasets.CIFAR10(root=rawdata_dir, train=False, download=True, transform=test_img_transform)"
   ]
  },
  {
   "cell_type": "code",
   "execution_count": null,
   "id": "374c984d-42c4-4864-b9b7-b25c90056ba4",
   "metadata": {},
   "outputs": [],
   "source": [
    "train_dataloader = DataLoader(train_data, batch_size=BATCH_SIZE, shuffle=True, drop_last=True, pin_memory=True, generator=torch.Generator(device=device), num_workers=NUM_WORKERS)\n",
    "test_dataloader = DataLoader(test_data, batch_size=BATCH_SIZE, shuffle=False, drop_last=True, pin_memory=True, generator=torch.Generator(device=device), num_workers=NUM_WORKERS)"
   ]
  }
 ],
 "metadata": {
  "kernelspec": {
   "display_name": "Python 3 (ipykernel)",
   "language": "python",
   "name": "python3"
  },
  "language_info": {
   "codemirror_mode": {
    "name": "ipython",
    "version": 3
   },
   "file_extension": ".py",
   "mimetype": "text/x-python",
   "name": "python",
   "nbconvert_exporter": "python",
   "pygments_lexer": "ipython3",
   "version": "3.11.10"
  }
 },
 "nbformat": 4,
 "nbformat_minor": 5
}
