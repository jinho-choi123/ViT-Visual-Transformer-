{
 "cells": [
  {
   "cell_type": "code",
   "execution_count": 1,
   "id": "5710d848-ca35-4c38-b76d-3d984b7a2493",
   "metadata": {},
   "outputs": [],
   "source": [
    "# Train the Vit using Food101 dataset "
   ]
  },
  {
   "cell_type": "code",
   "execution_count": 2,
   "id": "1f86868b-1470-42be-ae97-9cd3d7aa4ee1",
   "metadata": {},
   "outputs": [],
   "source": [
    "%%capture \n",
    "%run config.ipynb\n",
    "%run data-CIFAR10.ipynb\n",
    "%run ViT.ipynb"
   ]
  },
  {
   "cell_type": "code",
   "execution_count": 3,
   "id": "97823546-22b7-45d8-845c-1a22a4c7a2e3",
   "metadata": {},
   "outputs": [],
   "source": [
    "from torch.optim import Adam \n",
    "from datetime import datetime \n",
    "import torch \n",
    "from tqdm import tqdm\n",
    "from torchinfo import summary\n",
    "import matplotlib.pyplot as plt\n",
    "from torch.nn.utils import clip_grad_norm_\n",
    "from torch.optim.lr_scheduler import LambdaLR"
   ]
  },
  {
   "cell_type": "code",
   "execution_count": 4,
   "id": "20415737-0e48-457c-9988-b6d42d9727ed",
   "metadata": {},
   "outputs": [
    {
     "name": "stdout",
     "output_type": "stream",
     "text": [
      "cpu\n",
      "====================================================================================================\n",
      "Layer (type:depth-idx)                             Output Shape              Param #\n",
      "====================================================================================================\n",
      "ViT                                                [64, 10]                  --\n",
      "├─Encoder: 1-1                                     [64, 65, 400]             --\n",
      "│    └─TransformerEmbedding: 2-1                   [64, 65, 400]             400\n",
      "│    │    └─PatchEmbedding: 3-1                    [64, 64, 400]             19,600\n",
      "│    │    └─PositionalEmbedding: 3-2               [1, 65, 400]              26,000\n",
      "│    │    └─Dropout: 3-3                           [64, 65, 400]             --\n",
      "│    └─ModuleList: 2-2                             --                        --\n",
      "│    │    └─EncoderBlock: 3-4                      [64, 65, 400]             1,052,912\n",
      "│    │    └─EncoderBlock: 3-5                      [64, 65, 400]             1,052,912\n",
      "│    │    └─EncoderBlock: 3-6                      [64, 65, 400]             1,052,912\n",
      "│    │    └─EncoderBlock: 3-7                      [64, 65, 400]             1,052,912\n",
      "│    │    └─EncoderBlock: 3-8                      [64, 65, 400]             1,052,912\n",
      "│    └─LayerNorm: 2-3                              [64, 65, 400]             800\n",
      "├─MLPHead: 1-2                                     [64, 10]                  --\n",
      "│    └─Linear: 2-4                                 [64, 512]                 205,312\n",
      "│    └─GELU: 2-5                                   [64, 512]                 --\n",
      "│    └─Linear: 2-6                                 [64, 10]                  5,130\n",
      "│    └─Dropout: 2-7                                [64, 10]                  --\n",
      "====================================================================================================\n",
      "Total params: 5,521,802\n",
      "Trainable params: 5,521,802\n",
      "Non-trainable params: 0\n",
      "Total mult-adds (Units.MEGABYTES): 430.99\n",
      "====================================================================================================\n",
      "Input size (MB): 0.79\n",
      "Forward/backward pass size (MB): 578.01\n",
      "Params size (MB): 22.09\n",
      "Estimated Total Size (MB): 600.88\n",
      "====================================================================================================\n"
     ]
    }
   ],
   "source": [
    "model = ViT(\n",
    "    image_size=IMG_SIZE,\n",
    "    patch_size=PATCH_SIZE,\n",
    "    in_channels=IN_CHANNELS,\n",
    "    n_head=N_HEAD, \n",
    "    d_model=D_MODEL, \n",
    "    ffn_hidden=FFN_HIDDEN, \n",
    "    mlp_hidden=MLP_HIDDEN, \n",
    "    n_layers=N_LAYERS, \n",
    "    class_num=CLASS_NUM, \n",
    "    device=device, \n",
    "    drop_prob=DROP_PROB,\n",
    ")\n",
    "\n",
    "# load model \n",
    "if LOAD_MODEL:\n",
    "    loading_model_path = model_dir / LOADING_MODEL_NAME\n",
    "    model.load_state_dict(torch.load(loading_model_path, weights_only=True))\n",
    "\n",
    "model.train()\n",
    "\n",
    "print(device)\n",
    "model.to(device)\n",
    "\n",
    "def count_parameters(model): \n",
    "    return sum(p.numel() for p in model.parameters() if p.requires_grad) \n",
    "\n",
    "logger.info(summary(model, input_size=(BATCH_SIZE, IN_CHANNELS, IMG_SIZE, IMG_SIZE)))\n",
    "print(summary(model, input_size=(BATCH_SIZE, IN_CHANNELS, IMG_SIZE, IMG_SIZE)))\n",
    "\n",
    "logger.info(f'model parameter #: {count_parameters(model)}')\n",
    "\n",
    "# for name, param in model.named_parameters():\n",
    "#     print(f\"Parameter {name} is on {param.device}\")\n",
    "# for name, buffer in model.named_buffers():\n",
    "#     print(f\"Buffer {name} is on {buffer.device}\")"
   ]
  },
  {
   "cell_type": "code",
   "execution_count": 5,
   "id": "99b490b3-e88f-4599-b33b-7c1e530a517f",
   "metadata": {},
   "outputs": [],
   "source": [
    "# Setup optimizer \n",
    "optimizer = Adam(params = model.parameters(), lr=INIT_LR, weight_decay=WEIGHT_DECAY)\n",
    "\n",
    "scheduler = LambdaLR(optimizer=optimizer, lr_lambda=lambda epoch: 0.99 ** epoch)\n",
    "# Setup loss function for training \n",
    "loss_func = nn.CrossEntropyLoss()"
   ]
  },
  {
   "cell_type": "code",
   "execution_count": 6,
   "id": "eac9adba-1e11-4070-a4b8-6192b8bfdcdf",
   "metadata": {},
   "outputs": [],
   "source": [
    "train_loss_per_epoch = []\n",
    "test_loss_per_epoch = []\n",
    "test_accuracy_per_epoch = []"
   ]
  },
  {
   "cell_type": "code",
   "execution_count": 7,
   "id": "8e551b7f-8f6c-49dc-a3f2-8b6e1f25d78b",
   "metadata": {},
   "outputs": [],
   "source": [
    "# Plot the graph of train_epoch_loss, test_epoch_loss, test_accuracy\n",
    "def plot_losses(loss_values, label):\n",
    "    x0 = list(range(1, len(loss_values)+1))\n",
    "    plt.figure(figsize=(5, 2))\n",
    "    plt.plot(x0, loss_values)\n",
    "    plt.title(label)\n",
    "    plt.show()"
   ]
  },
  {
   "cell_type": "code",
   "execution_count": 8,
   "id": "ab542c29-a836-47e1-812d-ea27008b282a",
   "metadata": {},
   "outputs": [],
   "source": [
    "def train_epoch(epoch_num): \n",
    "    # Prepare recording CUDA memory snapshot\n",
    "    # torch.cuda.memory._record_memory_history(\n",
    "    #     max_entries=100000\n",
    "    # )\n",
    "    model.train()\n",
    "    train_epoch_loss = 0 \n",
    "    lr_rate_per_step = []\n",
    "    loss_per_step = []\n",
    "    \n",
    "\n",
    "    for step, (img, food) in tqdm(enumerate(train_dataloader)):\n",
    "        optimizer.zero_grad()\n",
    "\n",
    "        img = img.to(device)\n",
    "        food = food.to(device)\n",
    "        out = model(img)\n",
    "\n",
    "        loss = loss_func(out, food)\n",
    "\n",
    "        clip_grad_norm_(model.parameters(), GRADIENT_CLIP)\n",
    "        \n",
    "        loss.backward()\n",
    "\n",
    "        # track lr rate per steps\n",
    "        lr_rate_per_step.append(optimizer.param_groups[0]['lr'])\n",
    "\n",
    "        # track loss per steps \n",
    "        loss_per_step.append(loss.item())\n",
    "\n",
    "        optimizer.step()\n",
    "\n",
    "        train_epoch_loss += loss.item()\n",
    "\n",
    "    # after training is done, then print out the lr_rate_per_step\n",
    "    # plot_losses(lr_rate_per_step, f'LR rate in EPOCH #{epoch_num}')\n",
    "    # plot_losses(loss_per_step, f'Loss per step in EPOCH #{epoch_num}')\n",
    "    \n",
    "    train_step_loss = train_epoch_loss / (step + 1) \n",
    "    return train_epoch_loss, train_step_loss"
   ]
  },
  {
   "cell_type": "code",
   "execution_count": 9,
   "id": "04f6cd28-46d1-4607-b2c0-8f6f8fd09ee4",
   "metadata": {},
   "outputs": [],
   "source": [
    "def evaluate():\n",
    "    model.eval()\n",
    "    test_epoch_loss = 0\n",
    "    correct_cnt = 0\n",
    "    total_cnt = 0\n",
    "\n",
    "    with torch.no_grad():\n",
    "        for step, (img, food) in tqdm(enumerate(test_dataloader)):\n",
    "            img = img.to(device)\n",
    "            food = food.to(device)\n",
    "            out = model(img)\n",
    "            \n",
    "            pred, idx_ = out.max(-1)\n",
    "\n",
    "            loss = loss_func(out, food)\n",
    "            \n",
    "            correct_cnt += torch.eq(food, idx_).sum().item()\n",
    "            total_cnt += food.size(0)\n",
    "\n",
    "            test_epoch_loss += loss.item()\n",
    "\n",
    "    test_step_loss = test_epoch_loss / (step + 1)\n",
    "    accuracy = correct_cnt / total_cnt * 100\n",
    "\n",
    "    return test_epoch_loss, test_step_loss, accuracy"
   ]
  },
  {
   "cell_type": "code",
   "execution_count": 10,
   "id": "3910b3ff-4e9e-459c-b55d-b4011614fb8d",
   "metadata": {
    "scrolled": true
   },
   "outputs": [
    {
     "name": "stderr",
     "output_type": "stream",
     "text": [
      "403it [04:43,  1.42it/s]\n",
      "Exception ignored in: <function _MultiProcessingDataLoaderIter.__del__ at 0x1097efa60>\n",
      "Traceback (most recent call last):\n",
      "  File \"/Users/ball/Documents/workspace/visual-transformer/.venv/lib/python3.11/site-packages/torch/utils/data/dataloader.py\", line 1604, in __del__\n",
      "    self._shutdown_workers()\n",
      "  File \"/Users/ball/Documents/workspace/visual-transformer/.venv/lib/python3.11/site-packages/torch/utils/data/dataloader.py\", line 1568, in _shutdown_workers\n",
      "    w.join(timeout=_utils.MP_STATUS_CHECK_INTERVAL)\n",
      "  File \"/Users/ball/.pyenv/versions/3.11.10/lib/python3.11/multiprocessing/process.py\", line 149, in join\n",
      "    res = self._popen.wait(timeout)\n",
      "          ^^^^^^^^^^^^^^^^^^^^^^^^^\n",
      "  File \"/Users/ball/.pyenv/versions/3.11.10/lib/python3.11/multiprocessing/popen_fork.py\", line 40, in wait\n",
      "    if not wait([self.sentinel], timeout):\n",
      "           ^^^^^^^^^^^^^^^^^^^^^^^^^^^^^^\n",
      "  File \"/Users/ball/.pyenv/versions/3.11.10/lib/python3.11/multiprocessing/connection.py\", line 948, in wait\n",
      "    ready = selector.select(timeout)\n",
      "            ^^^^^^^^^^^^^^^^^^^^^^^^\n",
      "  File \"/Users/ball/.pyenv/versions/3.11.10/lib/python3.11/selectors.py\", line 415, in select\n",
      "    fd_event_list = self._selector.poll(timeout)\n",
      "                    ^^^^^^^^^^^^^^^^^^^^^^^^^^^^\n",
      "KeyboardInterrupt: \n",
      "\n",
      "KeyboardInterrupt\n",
      "\n"
     ]
    }
   ],
   "source": [
    "# Actual training is done here\n",
    "\n",
    "min_test_loss = 100_000_000\n",
    "\n",
    "for epoch in range(EPOCHS):\n",
    "    train_epoch_loss, train_step_loss = train_epoch(epoch)\n",
    "    test_epoch_loss, test_step_loss, test_accuracy = evaluate()\n",
    "\n",
    "    train_loss_per_epoch.append(train_step_loss)\n",
    "    test_loss_per_epoch.append(test_step_loss)\n",
    "    test_accuracy_per_epoch.append(test_accuracy)\n",
    "\n",
    "    logger.info(f'Epoch #{epoch} End | Train Loss: {train_step_loss} | Test Loss: {test_step_loss} | Test Accuracy: {test_accuracy:.2f}%')\n",
    "    scheduler.step()\n",
    "    # save the model parameter if it reaches the minimum test loss\n",
    "    if min_test_loss > test_step_loss:\n",
    "        min_test_loss = test_step_loss\n",
    "        model_path = model_dir / f'model_{timestamp}_{epoch}'\n",
    "        logger.info(f'Reached new min test loss. Saving the model at {model_path}')\n",
    "        torch.save(model.state_dict(), model_path)\n",
    "\n",
    "logger.info(f'Training Completely Ended!!')\n"
   ]
  },
  {
   "cell_type": "code",
   "execution_count": null,
   "id": "b0a2b6ad-4b01-45b2-9121-2ac09a872d89",
   "metadata": {},
   "outputs": [],
   "source": [
    "plot_losses(train_loss_per_epoch, 'Train Loss')"
   ]
  },
  {
   "cell_type": "code",
   "execution_count": null,
   "id": "4b800365-239c-4190-8006-713bd12294f5",
   "metadata": {},
   "outputs": [],
   "source": [
    "plot_losses(test_loss_per_epoch, 'Test Loss')"
   ]
  },
  {
   "cell_type": "code",
   "execution_count": null,
   "id": "27e6bbd5-60de-4518-970b-f529e57ec6f3",
   "metadata": {},
   "outputs": [],
   "source": [
    "plot_losses(test_accuracy_per_epoch, 'Test Accuracy')"
   ]
  }
 ],
 "metadata": {
  "kernelspec": {
   "display_name": "Python 3 (ipykernel)",
   "language": "python",
   "name": "python3"
  },
  "language_info": {
   "codemirror_mode": {
    "name": "ipython",
    "version": 3
   },
   "file_extension": ".py",
   "mimetype": "text/x-python",
   "name": "python",
   "nbconvert_exporter": "python",
   "pygments_lexer": "ipython3",
   "version": "3.11.10"
  }
 },
 "nbformat": 4,
 "nbformat_minor": 5
}
