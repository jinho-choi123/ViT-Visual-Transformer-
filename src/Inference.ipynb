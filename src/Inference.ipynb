{
 "cells": [
  {
   "cell_type": "code",
   "execution_count": null,
   "id": "a814d310-2b56-4fe8-b3e0-e359e55e7b07",
   "metadata": {},
   "outputs": [],
   "source": [
    "# Run inference"
   ]
  },
  {
   "cell_type": "code",
   "execution_count": 3,
   "id": "0233b224-b7cc-4de6-bc78-7a6a95f30724",
   "metadata": {},
   "outputs": [],
   "source": [
    "%%capture \n",
    "%run config.ipynb\n",
    "%run ViT.ipynb"
   ]
  },
  {
   "cell_type": "code",
   "execution_count": 4,
   "id": "1034870c-325c-40ba-b618-312f70b8c4a8",
   "metadata": {},
   "outputs": [],
   "source": [
    "import torch \n",
    "from PIL import Image"
   ]
  },
  {
   "cell_type": "code",
   "execution_count": null,
   "id": "784844d6-5137-45d6-8991-d77e53bb4d2e",
   "metadata": {},
   "outputs": [],
   "source": [
    "model = ViT(\n",
    "    image_size=IMG_SIZE,\n",
    "    patch_size=PATCH_SIZE,\n",
    "    in_channels=IN_CHANNELS,\n",
    "    n_head=N_HEAD, \n",
    "    d_model=D_MODEL, \n",
    "    ffn_hidden=FFN_HIDDEN, \n",
    "    mlp_hidden=MLP_HIDDEN, \n",
    "    n_layers=N_LAYERS, \n",
    "    class_num=CLASS_NUM, \n",
    "    device=device, \n",
    "    drop_prob=DROP_PROB,\n",
    ")\n",
    "\n",
    "# load model\n",
    "model_path = model_dir / \"model_20241128_094333_1\"\n",
    "model.load_state_dict(torch.load(model_path, weights_only=True, map_location=device))\n",
    "\n",
    "model.eval()\n"
   ]
  },
  {
   "cell_type": "code",
   "execution_count": null,
   "id": "5eed0d74-f34b-4c0b-b569-da3ea256731c",
   "metadata": {},
   "outputs": [],
   "source": [
    "# prepare single image tensor for input \n",
    "img_inference_transform = transforms.Compose([\n",
    "    transforms.Resize((IMG_SIZE, IMG_SIZE)),\n",
    "    transforms.ToTensor(),\n",
    "])\n",
    "\n",
    "img_path = data_dir / \"image_name\"\n",
    "\n",
    "img = Image.open(image_path).convert(\"RGB\")\n",
    "\n",
    "img = img_inference_transform(img)\n",
    "\n",
    "# set batch_size as 1 using unsqueeze\n",
    "img.unsqueeze(0)\n",
    "print(f'shape of img: {img.shape}')"
   ]
  },
  {
   "cell_type": "code",
   "execution_count": 5,
   "id": "262ec241-7f9f-489e-b076-96d6fc8a397d",
   "metadata": {},
   "outputs": [
    {
     "name": "stdout",
     "output_type": "stream",
     "text": [
      "{0: 'apple_pie\\n', 1: 'baby_back_ribs\\n', 2: 'baklava\\n', 3: 'beef_carpaccio\\n', 4: 'beef_tartare\\n', 5: 'beet_salad\\n', 6: 'beignets\\n', 7: 'bibimbap\\n', 8: 'bread_pudding\\n', 9: 'breakfast_burrito\\n', 10: 'bruschetta\\n', 11: 'caesar_salad\\n', 12: 'cannoli\\n', 13: 'caprese_salad\\n', 14: 'carrot_cake\\n', 15: 'ceviche\\n', 16: 'cheesecake\\n', 17: 'cheese_plate\\n', 18: 'chicken_curry\\n', 19: 'chicken_quesadilla\\n', 20: 'chicken_wings\\n', 21: 'chocolate_cake\\n', 22: 'chocolate_mousse\\n', 23: 'churros\\n', 24: 'clam_chowder\\n', 25: 'club_sandwich\\n', 26: 'crab_cakes\\n', 27: 'creme_brulee\\n', 28: 'croque_madame\\n', 29: 'cup_cakes\\n', 30: 'deviled_eggs\\n', 31: 'donuts\\n', 32: 'dumplings\\n', 33: 'edamame\\n', 34: 'eggs_benedict\\n', 35: 'escargots\\n', 36: 'falafel\\n', 37: 'filet_mignon\\n', 38: 'fish_and_chips\\n', 39: 'foie_gras\\n', 40: 'french_fries\\n', 41: 'french_onion_soup\\n', 42: 'french_toast\\n', 43: 'fried_calamari\\n', 44: 'fried_rice\\n', 45: 'frozen_yogurt\\n', 46: 'garlic_bread\\n', 47: 'gnocchi\\n', 48: 'greek_salad\\n', 49: 'grilled_cheese_sandwich\\n', 50: 'grilled_salmon\\n', 51: 'guacamole\\n', 52: 'gyoza\\n', 53: 'hamburger\\n', 54: 'hot_and_sour_soup\\n', 55: 'hot_dog\\n', 56: 'huevos_rancheros\\n', 57: 'hummus\\n', 58: 'ice_cream\\n', 59: 'lasagna\\n', 60: 'lobster_bisque\\n', 61: 'lobster_roll_sandwich\\n', 62: 'macaroni_and_cheese\\n', 63: 'macarons\\n', 64: 'miso_soup\\n', 65: 'mussels\\n', 66: 'nachos\\n', 67: 'omelette\\n', 68: 'onion_rings\\n', 69: 'oysters\\n', 70: 'pad_thai\\n', 71: 'paella\\n', 72: 'pancakes\\n', 73: 'panna_cotta\\n', 74: 'peking_duck\\n', 75: 'pho\\n', 76: 'pizza\\n', 77: 'pork_chop\\n', 78: 'poutine\\n', 79: 'prime_rib\\n', 80: 'pulled_pork_sandwich\\n', 81: 'ramen\\n', 82: 'ravioli\\n', 83: 'red_velvet_cake\\n', 84: 'risotto\\n', 85: 'samosa\\n', 86: 'sashimi\\n', 87: 'scallops\\n', 88: 'seaweed_salad\\n', 89: 'shrimp_and_grits\\n', 90: 'spaghetti_bolognese\\n', 91: 'spaghetti_carbonara\\n', 92: 'spring_rolls\\n', 93: 'steak\\n', 94: 'strawberry_shortcake\\n', 95: 'sushi\\n', 96: 'tacos\\n', 97: 'takoyaki\\n', 98: 'tiramisu\\n', 99: 'tuna_tartare\\n', 100: 'waffles\\n'}\n"
     ]
    }
   ],
   "source": [
    "# read the food101 classes.txt\n",
    "class_file_path = rawdata_dir / \"food-101\" / \"meta\" / \"classes.txt\"\n",
    "class_file = open(class_file_path, 'r')\n",
    "class_list = [line for line in class_file]\n",
    "class_dict = dict()\n",
    "for idx, foodname in enumerate(class_list):\n",
    "    class_dict[idx] = foodname\n",
    "\n",
    "print(f'{class_dict}')\n",
    "\n",
    "# define a helper function \n",
    "def tensor2foodid(tensor): \n",
    "    # convert tensor to foodid \n",
    "    # by picking index that has max value \n",
    "    # use argmax \n",
    "    food_id = torch.argmax(tensor, dim=-1)\n",
    "    return food_id\n",
    "\n",
    "def foodid2foodname(foodid):\n",
    "    if foodid < 0 or foodid > max(class_dict.keys()):\n",
    "        raise Exception(\"Invalid food Id for foodid2foodname function\")\n",
    "    return class_dict[foodid]\n",
    "    "
   ]
  },
  {
   "cell_type": "code",
   "execution_count": null,
   "id": "89cfdab9-42c7-4f97-a8cd-d8cc2bf24b4e",
   "metadata": {},
   "outputs": [],
   "source": [
    "def inference(model, img):\n",
    "    with torch.no_grad():\n",
    "        img = img.to(device)\n",
    "\n",
    "        out, _ = model(img)\n",
    "        foodid = tensor2foodid(out)\n",
    "        foodname = foodid2foodname(foodid)\n",
    "\n",
    "        print(f'{foodname}')\n",
    "    return"
   ]
  }
 ],
 "metadata": {
  "kernelspec": {
   "display_name": "Python 3 (ipykernel)",
   "language": "python",
   "name": "python3"
  },
  "language_info": {
   "codemirror_mode": {
    "name": "ipython",
    "version": 3
   },
   "file_extension": ".py",
   "mimetype": "text/x-python",
   "name": "python",
   "nbconvert_exporter": "python",
   "pygments_lexer": "ipython3",
   "version": "3.11.10"
  }
 },
 "nbformat": 4,
 "nbformat_minor": 5
}
