{
 "cells": [
  {
   "cell_type": "code",
   "execution_count": 1,
   "id": "36aabb81-415b-4712-b535-1691832e2ac9",
   "metadata": {},
   "outputs": [],
   "source": [
    "%%capture \n",
    "%run config.ipynb"
   ]
  },
  {
   "cell_type": "code",
   "execution_count": 2,
   "id": "7ee5d10a-8351-43bb-8fb6-bbc642eec917",
   "metadata": {},
   "outputs": [],
   "source": [
    "from torchvision import datasets, transforms\n",
    "from torch.utils.data import Dataset, DataLoader\n",
    "from torch import Generator"
   ]
  },
  {
   "cell_type": "code",
   "execution_count": 3,
   "id": "d1e034b0-999b-45e1-8033-27eb7948cfe0",
   "metadata": {},
   "outputs": [],
   "source": [
    "# Define Image transform function \n",
    "img_transform = transforms.Compose([\n",
    "    transforms.RandomResizedCrop((IMG_SIZE, IMG_SIZE)),\n",
    "    transforms.ToTensor(),\n",
    "])"
   ]
  },
  {
   "cell_type": "code",
   "execution_count": 4,
   "id": "7c8bf6f2-f5f9-454b-8a6e-dca3d11da4dc",
   "metadata": {},
   "outputs": [],
   "source": [
    "# Prepare Food101 dataset \n",
    "train_data = datasets.Food101(root=rawdata_dir, split=\"train\", download=True, transform=img_transform)\n",
    "test_data = datasets.Food101(root=rawdata_dir, split=\"train\", download=True, transform=img_transform)"
   ]
  },
  {
   "cell_type": "code",
   "execution_count": 5,
   "id": "c95516dc-df01-4521-a406-a25e179452e9",
   "metadata": {},
   "outputs": [],
   "source": [
    "train_dataloader = DataLoader(train_data, batch_size=BATCH_SIZE, shuffle=True, pin_memory=True, drop_last=True, pin_memory_device=device)\n",
    "test_dataloader = DataLoader(test_data, batch_size=BATCH_SIZE, shuffle=False, pin_memory=True, drop_last=True, pin_memory_device=device)"
   ]
  },
  {
   "cell_type": "code",
   "execution_count": null,
   "id": "204c8bef-9924-435c-850c-9f3823b3d507",
   "metadata": {},
   "outputs": [],
   "source": []
  }
 ],
 "metadata": {
  "kernelspec": {
   "display_name": "Python 3 (ipykernel)",
   "language": "python",
   "name": "python3"
  },
  "language_info": {
   "codemirror_mode": {
    "name": "ipython",
    "version": 3
   },
   "file_extension": ".py",
   "mimetype": "text/x-python",
   "name": "python",
   "nbconvert_exporter": "python",
   "pygments_lexer": "ipython3",
   "version": "3.11.10"
  }
 },
 "nbformat": 4,
 "nbformat_minor": 5
}
